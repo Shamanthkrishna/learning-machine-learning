{
  "nbformat": 4,
  "nbformat_minor": 0,
  "metadata": {
    "colab": {
      "provenance": []
    },
    "kernelspec": {
      "name": "python3",
      "display_name": "Python 3"
    },
    "language_info": {
      "name": "python"
    }
  },
  "cells": [
    {
      "cell_type": "code",
      "execution_count": 1,
      "metadata": {
        "colab": {
          "base_uri": "https://localhost:8080/"
        },
        "id": "_OGkOybgT8EE",
        "outputId": "66ea529f-1dff-43f2-8ee7-59ef9ca214ba"
      },
      "outputs": [
        {
          "output_type": "stream",
          "name": "stdout",
          "text": [
            "[1 2 3]\n",
            "[[1]\n",
            " [2]\n",
            " [3]]\n"
          ]
        }
      ],
      "source": [
        "# Creating a Vector\n",
        "# Importing the Numpuy Library\n",
        "import numpy as np\n",
        "\n",
        "# Create a vector\n",
        "vector_row = np.array([1, 2, 3])\n",
        "vector_column = np.array([[1],\n",
        "                      [2],\n",
        "                      [3]])\n",
        "print(vector_row)\n",
        "print(vector_column)"
      ]
    },
    {
      "cell_type": "code",
      "source": [
        "# Create a Matrix\n",
        "matrix = np.array([[1, 2],\n",
        "                   [1, 2],\n",
        "                   [1, 2]])\n",
        "print(matrix)"
      ],
      "metadata": {
        "colab": {
          "base_uri": "https://localhost:8080/"
        },
        "id": "qZMgbahVU3z5",
        "outputId": "8ad3af46-c16e-45d5-ea53-ea8e7a276e71"
      },
      "execution_count": 2,
      "outputs": [
        {
          "output_type": "stream",
          "name": "stdout",
          "text": [
            "[[1 2]\n",
            " [1 2]\n",
            " [1 2]]\n"
          ]
        }
      ]
    },
    {
      "cell_type": "code",
      "source": [
        "# Creating a Sparse Matrix\n",
        "# Create a Sparse Matrix\n",
        "from scipy import sparse\n",
        "matrix = np.array([[0, 0],\n",
        "                   [0, 1],\n",
        "                   [3, 0]])\n",
        "matrix_sparse = sparse.csr_matrix(matrix)\n",
        "print(matrix_sparse)"
      ],
      "metadata": {
        "colab": {
          "base_uri": "https://localhost:8080/"
        },
        "id": "1QExyuCCVQVr",
        "outputId": "75f889e1-ec9b-42a0-d67f-130858361308"
      },
      "execution_count": 3,
      "outputs": [
        {
          "output_type": "stream",
          "name": "stdout",
          "text": [
            "  (1, 1)\t1\n",
            "  (2, 0)\t3\n"
          ]
        }
      ]
    },
    {
      "cell_type": "code",
      "source": [
        "# Create larger matrix\n",
        "matrix_large = np.array([[0, 0, 0, 0, 0, 0, 0, 0, 0, 0],\n",
        "                         [0, 1, 0, 0, 0, 0, 0, 0, 0, 0],\n",
        "                         [3, 0, 0, 0, 0, 0, 0, 0, 0, 3]])\n",
        "# Create compressed sparse row (CSR) matrix\n",
        "matrix_large_sparse = sparse.csr_matrix(matrix_large)\n",
        "# View original sparse matrix\n",
        "print(matrix_sparse)\n",
        "# View larger sparse matrix\n",
        "print(matrix_large_sparse)"
      ],
      "metadata": {
        "colab": {
          "base_uri": "https://localhost:8080/"
        },
        "id": "zIKt4luoWD_N",
        "outputId": "5f20a790-d8f6-4c69-fc9b-d84cedb28dd1"
      },
      "execution_count": 6,
      "outputs": [
        {
          "output_type": "stream",
          "name": "stdout",
          "text": [
            "  (1, 1)\t1\n",
            "  (2, 0)\t3\n",
            "  (1, 1)\t1\n",
            "  (2, 0)\t3\n",
            "  (2, 9)\t3\n"
          ]
        }
      ]
    },
    {
      "cell_type": "code",
      "source": [
        "# Selecting Elements\n",
        "# Load library\n",
        "import numpy as np\n",
        "# Create row vector\n",
        "vector = np.array([1, 2, 3, 4, 5, 6])\n",
        "# Create matrix\n",
        "matrix = np.array([[1, 2, 3],\n",
        "                   [4, 5, 6],\n",
        "                   [7, 8, 9]])\n",
        "# Select third element of vector\n",
        "print(vector[2])\n",
        "\n",
        "# Select second row, second column\n",
        "print(matrix[1,1])\n",
        "\n",
        "# Select all elements of a vector\n",
        "print(vector[:])\n",
        "\n",
        "# Select everything up to and including the third element\n",
        "print(vector[:3])\n",
        "\n",
        "# Select everything after the third element\n",
        "print(vector[3:])\n",
        "\n",
        "# Select the last element\n",
        "print(vector[-1])\n",
        "\n",
        "# Select the first two rows and all columns of a matrix\n",
        "print(matrix[:2,:])\n",
        "\n",
        "# Select all rows and the second column\n",
        "print(matrix[:,1:2])"
      ],
      "metadata": {
        "colab": {
          "base_uri": "https://localhost:8080/"
        },
        "id": "__1nwOYvWkME",
        "outputId": "eec6afd3-03ba-44bc-e5a0-35b51eb8c00c"
      },
      "execution_count": 9,
      "outputs": [
        {
          "output_type": "stream",
          "name": "stdout",
          "text": [
            "3\n",
            "5\n",
            "[1 2 3 4 5 6]\n",
            "[1 2 3]\n",
            "[4 5 6]\n",
            "6\n",
            "[[1 2 3]\n",
            " [4 5 6]]\n",
            "[[2]\n",
            " [5]\n",
            " [8]]\n"
          ]
        }
      ]
    },
    {
      "cell_type": "code",
      "source": [
        "# Describing a Matrix\n",
        "\n",
        "# Load library\n",
        "import numpy as np\n",
        "# Create matrix\n",
        "matrix = np.array([[1, 2, 3, 4],\n",
        "                   [5, 6, 7, 8],\n",
        "                   [9, 10, 11, 12]])\n",
        "# View number of rows and columns\n",
        "print(matrix.shape)\n",
        "\n",
        "# View number of elements (rows * columns)\n",
        "print(matrix.size)\n",
        "\n",
        "# View number of dimensions\n",
        "print(matrix.ndim)"
      ],
      "metadata": {
        "colab": {
          "base_uri": "https://localhost:8080/"
        },
        "id": "DeM0jou1XnOm",
        "outputId": "726d6b41-1b2c-4b72-834e-ec691cd72385"
      },
      "execution_count": 12,
      "outputs": [
        {
          "output_type": "stream",
          "name": "stdout",
          "text": [
            "(3, 4)\n",
            "12\n",
            "2\n"
          ]
        }
      ]
    },
    {
      "cell_type": "code",
      "source": [
        "# Applying Operations to Elements\n",
        "\n",
        "# Load library\n",
        "import numpy as np\n",
        "# Create matrix\n",
        "matrix = np.array([[1, 2, 3],\n",
        "                   [4, 5, 6],\n",
        "                   [7, 8, 9]])\n",
        "\n",
        "# Create function that adds 100 to something\n",
        "add_100 = lambda i: i + 100\n",
        "\n",
        "# Create vectorized function\n",
        "vectorized_add_100 = np.vectorize(add_100)\n",
        "\n",
        "# Apply function to all elements in matrix\n",
        "print(vectorized_add_100(matrix))\n",
        "\n",
        "# OR\n",
        "# Add 100 to all elements\n",
        "print(matrix + 100)"
      ],
      "metadata": {
        "colab": {
          "base_uri": "https://localhost:8080/"
        },
        "id": "P1NlQ08cYG1S",
        "outputId": "5361ad3d-2000-445a-cc3c-7bc983d73bdf"
      },
      "execution_count": 13,
      "outputs": [
        {
          "output_type": "stream",
          "name": "stdout",
          "text": [
            "[[101 102 103]\n",
            " [104 105 106]\n",
            " [107 108 109]]\n",
            "[[101 102 103]\n",
            " [104 105 106]\n",
            " [107 108 109]]\n"
          ]
        }
      ]
    },
    {
      "cell_type": "code",
      "source": [
        "# Finding the Maximum and Minimum Values\n",
        "\n",
        "# Load library\n",
        "import numpy as np\n",
        "# Create matrix\n",
        "matrix = np.array([[1, 2, 3],\n",
        "                   [4, 5, 6],\n",
        "                   [7, 8, 9]])\n",
        "\n",
        "# Return maximum element\n",
        "print(np.max(matrix))\n",
        "\n",
        "# Return minimum element\n",
        "print(np.min(matrix))\n",
        "\n",
        "# Find maximum element in each column\n",
        "print(np.max(matrix, axis=0))\n",
        "\n",
        "# Find maximum element in each row\n",
        "print(np.max(matrix, axis=1))\n"
      ],
      "metadata": {
        "colab": {
          "base_uri": "https://localhost:8080/"
        },
        "id": "dWeWk6LLYhwL",
        "outputId": "cebba62d-4d73-4dc3-dee0-242d525b113b"
      },
      "execution_count": 15,
      "outputs": [
        {
          "output_type": "stream",
          "name": "stdout",
          "text": [
            "9\n",
            "1\n",
            "[7 8 9]\n",
            "[3 6 9]\n"
          ]
        }
      ]
    },
    {
      "cell_type": "code",
      "source": [
        "# Calculating the Average, Variance, and Standard Deviation\n",
        "\n",
        "# Load library\n",
        "import numpy as np\n",
        "\n",
        "# Create matrix\n",
        "matrix = np.array([[1, 2, 3],\n",
        "                   [4, 5, 6],\n",
        "                   [7, 8, 9]])\n",
        "\n",
        "# Return mean\n",
        "print(np.mean(matrix))\n",
        "\n",
        "# Return variance\n",
        "print(np.var(matrix))\n",
        "\n",
        "# Return standard deviation\n",
        "print(np.std(matrix))\n",
        "\n",
        "# Find the mean value in each column\n",
        "print(np.mean(matrix, axis=0))"
      ],
      "metadata": {
        "colab": {
          "base_uri": "https://localhost:8080/"
        },
        "id": "SdK3Qy2vY8va",
        "outputId": "6c51a397-d2ef-40df-a803-9b66d222cbf2"
      },
      "execution_count": 17,
      "outputs": [
        {
          "output_type": "stream",
          "name": "stdout",
          "text": [
            "5.0\n",
            "6.666666666666667\n",
            "2.581988897471611\n",
            "[4. 5. 6.]\n"
          ]
        }
      ]
    },
    {
      "cell_type": "code",
      "source": [
        "# Reshaping Arrays\n",
        "\n",
        "# Load library\n",
        "import numpy as np\n",
        "\n",
        "# Create 4x3 matrix\n",
        "matrix = np.array([[1, 2, 3],\n",
        "                   [4, 5, 6],\n",
        "                   [7, 8, 9],\n",
        "                   [10, 11, 12]])\n",
        "\n",
        "# Reshape matrix into 2x6 matrix\n",
        "print(matrix.reshape(2, 6))\n",
        "\n",
        "print(matrix.reshape(1, -1))\n",
        "\n",
        "print(matrix.reshape(12))"
      ],
      "metadata": {
        "colab": {
          "base_uri": "https://localhost:8080/"
        },
        "id": "NNI5Nqo3ZaUO",
        "outputId": "c060dfa1-4601-4855-8f6a-32ea913c3182"
      },
      "execution_count": 2,
      "outputs": [
        {
          "output_type": "stream",
          "name": "stdout",
          "text": [
            "[[ 1  2  3  4  5  6]\n",
            " [ 7  8  9 10 11 12]]\n",
            "[[ 1  2  3  4  5  6  7  8  9 10 11 12]]\n",
            "[ 1  2  3  4  5  6  7  8  9 10 11 12]\n"
          ]
        }
      ]
    },
    {
      "cell_type": "code",
      "source": [
        "# Transposing a Vector or Matrix\n",
        "# Load library\n",
        "import numpy as np\n",
        "\n",
        "# Create matrix\n",
        "matrix = np.array([[1, 2, 3],\n",
        "                   [4, 5, 6],\n",
        "                   [7, 8, 9]])\n",
        "\n",
        "# Transpose matrix\n",
        "print(matrix.T)"
      ],
      "metadata": {
        "colab": {
          "base_uri": "https://localhost:8080/"
        },
        "id": "5cs9--fW05us",
        "outputId": "2b353202-36bd-449a-b5e6-49bcc7cc55ae"
      },
      "execution_count": 4,
      "outputs": [
        {
          "output_type": "stream",
          "name": "stdout",
          "text": [
            "[[1 4 7]\n",
            " [2 5 8]\n",
            " [3 6 9]]\n"
          ]
        }
      ]
    },
    {
      "cell_type": "code",
      "source": [
        "# Flattening a Matrix\n",
        "\n",
        "# Load library\n",
        "import numpy as np\n",
        "\n",
        "# Create matrix\n",
        "matrix = np.array([[1, 2, 3],\n",
        "                   [4, 5, 6],\n",
        "                   [7, 8, 9]])\n",
        "\n",
        "# Flatten matrix\n",
        "print(matrix.flatten())"
      ],
      "metadata": {
        "colab": {
          "base_uri": "https://localhost:8080/"
        },
        "id": "sGRzlfps1NiZ",
        "outputId": "3d21cf24-184a-4e49-86c6-648fcd938385"
      },
      "execution_count": 5,
      "outputs": [
        {
          "output_type": "stream",
          "name": "stdout",
          "text": [
            "[1 2 3 4 5 6 7 8 9]\n"
          ]
        }
      ]
    },
    {
      "cell_type": "code",
      "source": [
        "# Finding the Rank of a Matrix\n",
        "\n",
        "# Load library\n",
        "import numpy as np\n",
        "\n",
        "# Create matrix\n",
        "matrix = np.array([[1, 1, 1],\n",
        "                   [1, 1, 10],\n",
        "                   [1, 1, 15]])\n",
        "\n",
        "# Return matrix rank\n",
        "np.linalg.matrix_rank(matrix)"
      ],
      "metadata": {
        "colab": {
          "base_uri": "https://localhost:8080/"
        },
        "id": "I8K0ZLH08Y7e",
        "outputId": "a3d61e97-9dc8-4438-83c8-37decd12dbb8"
      },
      "execution_count": 6,
      "outputs": [
        {
          "output_type": "execute_result",
          "data": {
            "text/plain": [
              "2"
            ]
          },
          "metadata": {},
          "execution_count": 6
        }
      ]
    },
    {
      "cell_type": "code",
      "source": [
        "# Calculating the Determinant\n",
        "\n",
        "# Load library\n",
        "import numpy as np\n",
        "\n",
        "# Create matrix\n",
        "matrix = np.array([[1, 2, 3],\n",
        "                   [2, 4, 6],\n",
        "                   [3, 8, 9]])\n",
        "\n",
        "# Return determinant of matrix\n",
        "np.linalg.det(matrix)"
      ],
      "metadata": {
        "colab": {
          "base_uri": "https://localhost:8080/"
        },
        "id": "X8KU-n-t8ixD",
        "outputId": "e6653cf6-c149-4815-b399-0a872a571374"
      },
      "execution_count": 7,
      "outputs": [
        {
          "output_type": "execute_result",
          "data": {
            "text/plain": [
              "0.0"
            ]
          },
          "metadata": {},
          "execution_count": 7
        }
      ]
    },
    {
      "cell_type": "code",
      "source": [
        "# Getting the Diagonal of a Matrix\n",
        "\n",
        "# Load library\n",
        "import numpy as np\n",
        "\n",
        "# Create matrix\n",
        "matrix = np.array([[1, 2, 3],\n",
        "                   [2, 4, 6],\n",
        "                   [3, 8, 9]])\n",
        "\n",
        "# Return diagonal elements\n",
        "print(matrix.diagonal())\n",
        "\n",
        "# Return diagonal one above the main diagonal\n",
        "print(matrix.diagonal(offset=1))\n",
        "\n",
        "# Return diagonal one below the main diagonal\n",
        "print(matrix.diagonal(offset=-1))\n"
      ],
      "metadata": {
        "colab": {
          "base_uri": "https://localhost:8080/"
        },
        "id": "GfxipGbG8yIC",
        "outputId": "8c8b2880-fe9f-479d-aeda-1f5aaa4c07bf"
      },
      "execution_count": 11,
      "outputs": [
        {
          "output_type": "stream",
          "name": "stdout",
          "text": [
            "[1 4 9]\n",
            "[2 6]\n",
            "[2 8]\n"
          ]
        }
      ]
    },
    {
      "cell_type": "code",
      "source": [
        "# Calculating the Trace of a Matrix\n",
        "\n",
        "# Load library\n",
        "import numpy as np\n",
        "\n",
        "# Create matrix\n",
        "matrix = np.array([[1, 2, 3],\n",
        "                   [2, 4, 6],\n",
        "                   [3, 8, 9]])\n",
        "\n",
        "# Return trace\n",
        "print(matrix.trace())\n",
        "\n",
        "# Return diagonal and sum elements\n",
        "sum(matrix.diagonal())\n"
      ],
      "metadata": {
        "colab": {
          "base_uri": "https://localhost:8080/"
        },
        "id": "8DxMTv9O9MGe",
        "outputId": "a0769fe9-9ccd-4303-8fda-a1c3e69988e8"
      },
      "execution_count": 13,
      "outputs": [
        {
          "output_type": "stream",
          "name": "stdout",
          "text": [
            "14\n"
          ]
        },
        {
          "output_type": "execute_result",
          "data": {
            "text/plain": [
              "14"
            ]
          },
          "metadata": {},
          "execution_count": 13
        }
      ]
    },
    {
      "cell_type": "code",
      "source": [
        "# Finding Eigenvalues and Eigenvectors\n",
        "\n",
        "# Load library\n",
        "import numpy as np\n",
        "\n",
        "# Create matrix\n",
        "matrix = np.array([[1, -1, 3],\n",
        "                   [1, 1, 6],\n",
        "                   [3, 8, 9]])\n",
        "\n",
        "# Calculate eigenvalues and eigenvectors\n",
        "eigenvalues, eigenvectors = np.linalg.eig(matrix)\n",
        "\n",
        "# View eigenvalues\n",
        "print(eigenvalues)\n",
        "\n",
        "# View eigenvectors\n",
        "print(eigenvectors)"
      ],
      "metadata": {
        "colab": {
          "base_uri": "https://localhost:8080/"
        },
        "id": "_9yzTYlC9ZAZ",
        "outputId": "9b6d15b5-4f49-430f-fefd-76de39b8e5ce"
      },
      "execution_count": 15,
      "outputs": [
        {
          "output_type": "stream",
          "name": "stdout",
          "text": [
            "[13.55075847  0.74003145 -3.29078992]\n",
            "[[-0.17622017 -0.96677403 -0.53373322]\n",
            " [-0.435951    0.2053623  -0.64324848]\n",
            " [-0.88254925  0.15223105  0.54896288]]\n"
          ]
        }
      ]
    },
    {
      "cell_type": "code",
      "source": [
        "# Calculating Dot Products\n",
        "\n",
        "# Load library\n",
        "import numpy as np\n",
        "\n",
        "# Create two vectors\n",
        "vector_a = np.array([1,2,3])\n",
        "vector_b = np.array([4,5,6])\n",
        "\n",
        "# Calculate dot product\n",
        "print(np.dot(vector_a, vector_b))\n",
        "\n",
        "# Calculate dot product\n",
        "vector_a @ vector_b"
      ],
      "metadata": {
        "colab": {
          "base_uri": "https://localhost:8080/"
        },
        "id": "6YTxbTkU-U77",
        "outputId": "7fb063c3-f97a-46fb-a4ee-93eaefb3edea"
      },
      "execution_count": 17,
      "outputs": [
        {
          "output_type": "stream",
          "name": "stdout",
          "text": [
            "32\n"
          ]
        },
        {
          "output_type": "execute_result",
          "data": {
            "text/plain": [
              "32"
            ]
          },
          "metadata": {},
          "execution_count": 17
        }
      ]
    },
    {
      "cell_type": "code",
      "source": [
        "# Adding and Subtracting Matrices\n",
        "\n",
        "# Load library\n",
        "import numpy as np\n",
        "\n",
        "# Create matrix\n",
        "matrix_a = np.array([[1, 1, 1],\n",
        "[1, 1, 1],\n",
        "[1, 1, 2]])\n",
        "\n",
        "# Create matrix\n",
        "matrix_b = np.array([[1, 3, 1],\n",
        "                     [1, 3, 1],\n",
        "                     [1, 3, 8]])\n",
        "\n",
        "# Add two matrices\n",
        "print(np.add(matrix_a, matrix_b))\n",
        "\n",
        "# Add two matrices\n",
        "matrix_a + matrix_b"
      ],
      "metadata": {
        "colab": {
          "base_uri": "https://localhost:8080/"
        },
        "id": "jJWR6V93-tPr",
        "outputId": "e1442d9e-3962-4495-f0e2-0ebe75919b44"
      },
      "execution_count": 19,
      "outputs": [
        {
          "output_type": "stream",
          "name": "stdout",
          "text": [
            "[[ 2  4  2]\n",
            " [ 2  4  2]\n",
            " [ 2  4 10]]\n"
          ]
        },
        {
          "output_type": "execute_result",
          "data": {
            "text/plain": [
              "array([[ 2,  4,  2],\n",
              "       [ 2,  4,  2],\n",
              "       [ 2,  4, 10]])"
            ]
          },
          "metadata": {},
          "execution_count": 19
        }
      ]
    },
    {
      "cell_type": "code",
      "source": [
        "# Multiplying Matrices\n",
        "\n",
        "# Load library\n",
        "import numpy as np\n",
        "\n",
        "# Create matrix\n",
        "matrix_a = np.array([[1, 1],\n",
        "                     [1, 2]])\n",
        "\n",
        "# Create matrix\n",
        "matrix_b = np.array([[1, 3],\n",
        "                     [1, 2]])\n",
        "\n",
        "# Multiply two matrices\n",
        "np.dot(matrix_a, matrix_b)"
      ],
      "metadata": {
        "colab": {
          "base_uri": "https://localhost:8080/"
        },
        "id": "2QJKubW1_Ciu",
        "outputId": "7b7e8f95-43d0-4666-82ec-632cadbcd9f3"
      },
      "execution_count": 20,
      "outputs": [
        {
          "output_type": "execute_result",
          "data": {
            "text/plain": [
              "array([[2, 5],\n",
              "       [3, 7]])"
            ]
          },
          "metadata": {},
          "execution_count": 20
        }
      ]
    },
    {
      "cell_type": "code",
      "source": [
        "# Multiply two matrices\n",
        "matrix_a @ matrix_b"
      ],
      "metadata": {
        "colab": {
          "base_uri": "https://localhost:8080/"
        },
        "id": "65JtzCB3_cqj",
        "outputId": "3e467524-8a75-4782-d84a-2a9272c7b134"
      },
      "execution_count": 21,
      "outputs": [
        {
          "output_type": "execute_result",
          "data": {
            "text/plain": [
              "array([[2, 5],\n",
              "       [3, 7]])"
            ]
          },
          "metadata": {},
          "execution_count": 21
        }
      ]
    },
    {
      "cell_type": "code",
      "source": [
        "# Multiply two matrices element-wise\n",
        "matrix_a * matrix_b"
      ],
      "metadata": {
        "colab": {
          "base_uri": "https://localhost:8080/"
        },
        "id": "sJwzlXWu_d9a",
        "outputId": "9075f4d2-b758-45f6-c803-898ed7417d57"
      },
      "execution_count": 22,
      "outputs": [
        {
          "output_type": "execute_result",
          "data": {
            "text/plain": [
              "array([[1, 3],\n",
              "       [1, 4]])"
            ]
          },
          "metadata": {},
          "execution_count": 22
        }
      ]
    },
    {
      "cell_type": "code",
      "source": [
        "# Inverting a Matrix\n",
        "\n",
        "# Load library\n",
        "import numpy as np\n",
        "\n",
        "# Create matrix\n",
        "matrix = np.array([[1, 4],\n",
        "                   [2, 5]])\n",
        "\n",
        "# Calculate inverse of matrix\n",
        "np.linalg.inv(matrix)"
      ],
      "metadata": {
        "colab": {
          "base_uri": "https://localhost:8080/"
        },
        "id": "MNjfWqN0_haS",
        "outputId": "ca79194f-6437-4f75-ce97-bfc406223f49"
      },
      "execution_count": 23,
      "outputs": [
        {
          "output_type": "execute_result",
          "data": {
            "text/plain": [
              "array([[-1.66666667,  1.33333333],\n",
              "       [ 0.66666667, -0.33333333]])"
            ]
          },
          "metadata": {},
          "execution_count": 23
        }
      ]
    },
    {
      "cell_type": "code",
      "source": [
        "# Multiply matrix and its inverse\n",
        "matrix @ np.linalg.inv(matrix)"
      ],
      "metadata": {
        "colab": {
          "base_uri": "https://localhost:8080/"
        },
        "id": "hV5sznr5_pW4",
        "outputId": "5df0f128-bfe5-4030-81f8-234b6994c066"
      },
      "execution_count": 24,
      "outputs": [
        {
          "output_type": "execute_result",
          "data": {
            "text/plain": [
              "array([[1.00000000e+00, 0.00000000e+00],\n",
              "       [1.11022302e-16, 1.00000000e+00]])"
            ]
          },
          "metadata": {},
          "execution_count": 24
        }
      ]
    },
    {
      "cell_type": "code",
      "source": [
        "# Generating Random Values\n",
        "\n",
        "# Load library\n",
        "import numpy as np\n",
        "\n",
        "# Set seed\n",
        "np.random.seed(0)\n",
        "\n",
        "# Generate three random floats between 0.0 and 1.0\n",
        "np.random.random(3)"
      ],
      "metadata": {
        "colab": {
          "base_uri": "https://localhost:8080/"
        },
        "id": "MljG3bHc_sWY",
        "outputId": "599710ce-e73b-49d1-e8eb-f37c6bb61743"
      },
      "execution_count": 25,
      "outputs": [
        {
          "output_type": "execute_result",
          "data": {
            "text/plain": [
              "array([0.5488135 , 0.71518937, 0.60276338])"
            ]
          },
          "metadata": {},
          "execution_count": 25
        }
      ]
    },
    {
      "cell_type": "code",
      "source": [
        "# Generate three random integers between 1 and 10\n",
        "np.random.randint(0, 11, 3)"
      ],
      "metadata": {
        "colab": {
          "base_uri": "https://localhost:8080/"
        },
        "id": "4xvSg90i_1l5",
        "outputId": "ce3aa101-ff36-41db-b149-456ce820fd0d"
      },
      "execution_count": 26,
      "outputs": [
        {
          "output_type": "execute_result",
          "data": {
            "text/plain": [
              "array([3, 7, 9])"
            ]
          },
          "metadata": {},
          "execution_count": 26
        }
      ]
    },
    {
      "cell_type": "code",
      "source": [
        "# Draw three numbers from a normal distribution with mean 0.0\n",
        "# and standard deviation of 1.0\n",
        "np.random.normal(0.0, 1.0, 3)"
      ],
      "metadata": {
        "colab": {
          "base_uri": "https://localhost:8080/"
        },
        "id": "h333epk5_5Ch",
        "outputId": "6038f913-1da4-418f-b0d2-b481ec119978"
      },
      "execution_count": 27,
      "outputs": [
        {
          "output_type": "execute_result",
          "data": {
            "text/plain": [
              "array([-1.42232584,  1.52006949, -0.29139398])"
            ]
          },
          "metadata": {},
          "execution_count": 27
        }
      ]
    },
    {
      "cell_type": "code",
      "source": [
        "# Draw three numbers from a logistic distribution with mean 0.0 and scale of 1.0\n",
        "np.random.logistic(0.0, 1.0, 3)"
      ],
      "metadata": {
        "colab": {
          "base_uri": "https://localhost:8080/"
        },
        "id": "79EAPQF0_7PR",
        "outputId": "ace24baa-b013-407d-a0ef-7e7a54095433"
      },
      "execution_count": 28,
      "outputs": [
        {
          "output_type": "execute_result",
          "data": {
            "text/plain": [
              "array([-0.98118713, -0.08939902,  1.46416405])"
            ]
          },
          "metadata": {},
          "execution_count": 28
        }
      ]
    },
    {
      "cell_type": "code",
      "source": [
        "# Draw three numbers greater than or equal to 1.0 and less than 2.0\n",
        "np.random.uniform(1.0, 2.0, 3)"
      ],
      "metadata": {
        "colab": {
          "base_uri": "https://localhost:8080/"
        },
        "id": "-dY4i4ae_-HY",
        "outputId": "b0924e95-ec2c-4858-c3f8-08b69c9ffaef"
      },
      "execution_count": 29,
      "outputs": [
        {
          "output_type": "execute_result",
          "data": {
            "text/plain": [
              "array([1.47997717, 1.3927848 , 1.83607876])"
            ]
          },
          "metadata": {},
          "execution_count": 29
        }
      ]
    }
  ]
}